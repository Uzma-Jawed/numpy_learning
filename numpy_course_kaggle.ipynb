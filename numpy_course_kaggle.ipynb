{
  "cells": [
    {
      "cell_type": "markdown",
      "metadata": {
        "id": "view-in-github",
        "colab_type": "text"
      },
      "source": [
        "<a href=\"https://colab.research.google.com/github/Uzma-Jawed/numpy_learning/blob/main/numpy_course_kaggle.ipynb\" target=\"_parent\"><img src=\"https://colab.research.google.com/assets/colab-badge.svg\" alt=\"Open In Colab\"/></a>"
      ]
    },
    {
      "cell_type": "markdown",
      "id": "b2035304",
      "metadata": {
        "id": "b2035304"
      },
      "source": [
        "#  NumPy Complete Course\n",
        "\n",
        "🔗https://www.kaggle.com/code/bheekharam/numpy-complete-course\n",
        "\n",
        "\n",
        "* Beginner-to-intermediate **NumPy** tutorial.\n",
        "\n",
        "* Created by **Uzma Jawed** for personal practice and portfolio."
      ]
    },
    {
      "cell_type": "markdown",
      "id": "86a95dfd",
      "metadata": {
        "id": "86a95dfd"
      },
      "source": [
        "## 📦 Importing Libraries"
      ]
    },
    {
      "cell_type": "code",
      "execution_count": null,
      "id": "72480ba9",
      "metadata": {
        "id": "72480ba9"
      },
      "outputs": [],
      "source": [
        "import numpy as np\n",
        "import pandas as pd\n",
        "import matplotlib.pyplot as plt"
      ]
    },
    {
      "cell_type": "markdown",
      "id": "87976180",
      "metadata": {
        "id": "87976180"
      },
      "source": [
        "## 🔢 1D and 2D Arrays"
      ]
    },
    {
      "cell_type": "code",
      "execution_count": null,
      "id": "cd21140f",
      "metadata": {
        "id": "cd21140f"
      },
      "outputs": [],
      "source": [
        "arr_1d  = np.array([1,2,3,4])"
      ]
    },
    {
      "cell_type": "code",
      "execution_count": null,
      "id": "9ox_meJnlr_R",
      "metadata": {
        "colab": {
          "base_uri": "https://localhost:8080/"
        },
        "id": "9ox_meJnlr_R",
        "outputId": "a0fb0a2d-79cc-43a2-f359-68d27ba4b959"
      },
      "outputs": [
        {
          "data": {
            "text/plain": [
              "array([1, 2, 3, 4])"
            ]
          },
          "execution_count": 11,
          "metadata": {},
          "output_type": "execute_result"
        }
      ],
      "source": [
        "arr_1d"
      ]
    },
    {
      "cell_type": "code",
      "execution_count": null,
      "id": "b2fa4e3e",
      "metadata": {
        "colab": {
          "base_uri": "https://localhost:8080/"
        },
        "id": "b2fa4e3e",
        "outputId": "3b2a0fa7-ca1c-4ac2-ed2f-c7c4dd2645fd"
      },
      "outputs": [
        {
          "data": {
            "text/plain": [
              "numpy.ndarray"
            ]
          },
          "execution_count": 12,
          "metadata": {},
          "output_type": "execute_result"
        }
      ],
      "source": [
        "type(arr_1d)"
      ]
    },
    {
      "cell_type": "code",
      "execution_count": null,
      "id": "iqt17Ahmlw9O",
      "metadata": {
        "colab": {
          "background_save": true
        },
        "id": "iqt17Ahmlw9O",
        "outputId": "c67f1197-4528-4b2e-eec3-cd164ca3afc4"
      },
      "outputs": [
        {
          "data": {
            "text/plain": [
              "1"
            ]
          },
          "execution_count": 13,
          "metadata": {},
          "output_type": "execute_result"
        }
      ],
      "source": [
        "arr_1d.ndim"
      ]
    },
    {
      "cell_type": "code",
      "source": [
        "arr_1d.size"
      ],
      "metadata": {
        "colab": {
          "base_uri": "https://localhost:8080/"
        },
        "id": "_uJn3XjAmaRP",
        "outputId": "6c840a1a-36ed-4689-beeb-f8c9942987fa"
      },
      "id": "_uJn3XjAmaRP",
      "execution_count": null,
      "outputs": [
        {
          "output_type": "execute_result",
          "data": {
            "text/plain": [
              "4"
            ]
          },
          "metadata": {},
          "execution_count": 14
        }
      ]
    },
    {
      "cell_type": "code",
      "execution_count": null,
      "id": "11113890",
      "metadata": {
        "id": "11113890"
      },
      "outputs": [],
      "source": [
        "arr_2d=np.array([[1,2,3,4],[5,6,7,8]])"
      ]
    },
    {
      "cell_type": "code",
      "source": [
        "arr_2d"
      ],
      "metadata": {
        "colab": {
          "base_uri": "https://localhost:8080/"
        },
        "id": "jqKYh9JmmgP7",
        "outputId": "01ae8e1b-8f41-4bf6-ca09-3fca84b13c19"
      },
      "id": "jqKYh9JmmgP7",
      "execution_count": null,
      "outputs": [
        {
          "output_type": "execute_result",
          "data": {
            "text/plain": [
              "array([[1, 2, 3, 4],\n",
              "       [5, 6, 7, 8]])"
            ]
          },
          "metadata": {},
          "execution_count": 16
        }
      ]
    },
    {
      "cell_type": "code",
      "source": [
        "arr_2d.ndim"
      ],
      "metadata": {
        "colab": {
          "base_uri": "https://localhost:8080/"
        },
        "id": "d27mSYMymi_d",
        "outputId": "e123e92b-56bd-4e49-e2c2-c217d6b57cd6"
      },
      "id": "d27mSYMymi_d",
      "execution_count": null,
      "outputs": [
        {
          "output_type": "execute_result",
          "data": {
            "text/plain": [
              "2"
            ]
          },
          "metadata": {},
          "execution_count": 17
        }
      ]
    },
    {
      "cell_type": "code",
      "source": [
        "arr_2d.size"
      ],
      "metadata": {
        "colab": {
          "base_uri": "https://localhost:8080/"
        },
        "id": "wCmoL40MmmZ_",
        "outputId": "5187c50b-5fcd-4ca8-d1ae-2eeb7890f221"
      },
      "id": "wCmoL40MmmZ_",
      "execution_count": null,
      "outputs": [
        {
          "output_type": "execute_result",
          "data": {
            "text/plain": [
              "8"
            ]
          },
          "metadata": {},
          "execution_count": 18
        }
      ]
    },
    {
      "cell_type": "code",
      "source": [
        "arr_2d.dtype"
      ],
      "metadata": {
        "colab": {
          "base_uri": "https://localhost:8080/"
        },
        "id": "Tl4Lb9abmpxV",
        "outputId": "8888a098-0ebc-47b2-e054-5bc7dd0d3e1d"
      },
      "id": "Tl4Lb9abmpxV",
      "execution_count": null,
      "outputs": [
        {
          "output_type": "execute_result",
          "data": {
            "text/plain": [
              "dtype('int64')"
            ]
          },
          "metadata": {},
          "execution_count": 19
        }
      ]
    },
    {
      "cell_type": "markdown",
      "id": "4b379100",
      "metadata": {
        "id": "4b379100"
      },
      "source": [
        "## 🔁 Ones and Zeros Matrices"
      ]
    },
    {
      "cell_type": "code",
      "execution_count": null,
      "id": "aaa877f7",
      "metadata": {
        "id": "aaa877f7"
      },
      "outputs": [],
      "source": [
        "arr_1d_once=np.ones(10)"
      ]
    },
    {
      "cell_type": "code",
      "source": [
        "arr_1d_once"
      ],
      "metadata": {
        "colab": {
          "base_uri": "https://localhost:8080/"
        },
        "id": "iTI9V0VkmvLR",
        "outputId": "f24a5e25-dd18-4b2c-9d50-054637955502"
      },
      "id": "iTI9V0VkmvLR",
      "execution_count": null,
      "outputs": [
        {
          "output_type": "execute_result",
          "data": {
            "text/plain": [
              "array([1., 1., 1., 1., 1., 1., 1., 1., 1., 1.])"
            ]
          },
          "metadata": {},
          "execution_count": 21
        }
      ]
    },
    {
      "cell_type": "code",
      "source": [
        "arr_1d_once.dtype"
      ],
      "metadata": {
        "colab": {
          "base_uri": "https://localhost:8080/"
        },
        "id": "LpLVwoKimxNH",
        "outputId": "c1841095-ba11-4ad6-acc6-7cb35a79dfd9"
      },
      "id": "LpLVwoKimxNH",
      "execution_count": null,
      "outputs": [
        {
          "output_type": "execute_result",
          "data": {
            "text/plain": [
              "dtype('float64')"
            ]
          },
          "metadata": {},
          "execution_count": 22
        }
      ]
    },
    {
      "cell_type": "code",
      "execution_count": null,
      "id": "8e7d20ca",
      "metadata": {
        "id": "8e7d20ca"
      },
      "outputs": [],
      "source": [
        "arr_2d_once=np.ones((3,4))"
      ]
    },
    {
      "cell_type": "code",
      "source": [
        "arr_2d_once"
      ],
      "metadata": {
        "colab": {
          "base_uri": "https://localhost:8080/"
        },
        "id": "zjWQBsxGm1OZ",
        "outputId": "68cf5943-f6a1-4c2a-909e-0853bdda008d"
      },
      "id": "zjWQBsxGm1OZ",
      "execution_count": null,
      "outputs": [
        {
          "output_type": "execute_result",
          "data": {
            "text/plain": [
              "array([[1., 1., 1., 1.],\n",
              "       [1., 1., 1., 1.],\n",
              "       [1., 1., 1., 1.]])"
            ]
          },
          "metadata": {},
          "execution_count": 24
        }
      ]
    },
    {
      "cell_type": "code",
      "source": [
        "np.ones((3,4),dtype=int)"
      ],
      "metadata": {
        "colab": {
          "base_uri": "https://localhost:8080/"
        },
        "id": "s28sVsvWm37v",
        "outputId": "4962fe08-39a5-4a3f-fc39-764a5fc7ed01"
      },
      "id": "s28sVsvWm37v",
      "execution_count": null,
      "outputs": [
        {
          "output_type": "execute_result",
          "data": {
            "text/plain": [
              "array([[1, 1, 1, 1],\n",
              "       [1, 1, 1, 1],\n",
              "       [1, 1, 1, 1]])"
            ]
          },
          "metadata": {},
          "execution_count": 25
        }
      ]
    },
    {
      "cell_type": "code",
      "source": [
        "np.zeros((5,4),dtype=bool)"
      ],
      "metadata": {
        "colab": {
          "base_uri": "https://localhost:8080/"
        },
        "id": "vbyd1mJ5m6N_",
        "outputId": "a0429349-8400-459d-930b-fb173960fcc6"
      },
      "id": "vbyd1mJ5m6N_",
      "execution_count": null,
      "outputs": [
        {
          "output_type": "execute_result",
          "data": {
            "text/plain": [
              "array([[False, False, False, False],\n",
              "       [False, False, False, False],\n",
              "       [False, False, False, False],\n",
              "       [False, False, False, False],\n",
              "       [False, False, False, False]])"
            ]
          },
          "metadata": {},
          "execution_count": 26
        }
      ]
    },
    {
      "cell_type": "markdown",
      "id": "edf88884",
      "metadata": {
        "id": "edf88884"
      },
      "source": [
        "## 🧱 Creating Arrays with `arange()` and `linspace()`"
      ]
    },
    {
      "cell_type": "code",
      "execution_count": null,
      "id": "6745b3c0",
      "metadata": {
        "colab": {
          "base_uri": "https://localhost:8080/"
        },
        "id": "6745b3c0",
        "outputId": "94b000ef-9298-4b4e-e008-a0d3b19afd70"
      },
      "outputs": [
        {
          "output_type": "execute_result",
          "data": {
            "text/plain": [
              "array([ 1,  2,  3,  4,  5,  6,  7,  8,  9, 10, 11, 12])"
            ]
          },
          "metadata": {},
          "execution_count": 27
        }
      ],
      "source": [
        "np.arange(1,13)"
      ]
    },
    {
      "cell_type": "code",
      "source": [
        "arr_r=np.arange(1,13,2)"
      ],
      "metadata": {
        "id": "VMpD_WNKm-ac"
      },
      "id": "VMpD_WNKm-ac",
      "execution_count": null,
      "outputs": []
    },
    {
      "cell_type": "code",
      "source": [
        "arr_r"
      ],
      "metadata": {
        "colab": {
          "base_uri": "https://localhost:8080/"
        },
        "id": "ByMo1NCsnBH-",
        "outputId": "9cd1b376-93c9-4a37-f2eb-ea35c4a95480"
      },
      "id": "ByMo1NCsnBH-",
      "execution_count": null,
      "outputs": [
        {
          "output_type": "execute_result",
          "data": {
            "text/plain": [
              "array([ 1,  3,  5,  7,  9, 11])"
            ]
          },
          "metadata": {},
          "execution_count": 29
        }
      ]
    },
    {
      "cell_type": "code",
      "source": [
        "np.linspace(1,5,15)"
      ],
      "metadata": {
        "colab": {
          "base_uri": "https://localhost:8080/"
        },
        "id": "lup5GOdNnDZj",
        "outputId": "0b98ff2e-c8fc-4f02-b6b1-5334030c90fe"
      },
      "id": "lup5GOdNnDZj",
      "execution_count": null,
      "outputs": [
        {
          "output_type": "execute_result",
          "data": {
            "text/plain": [
              "array([1.        , 1.28571429, 1.57142857, 1.85714286, 2.14285714,\n",
              "       2.42857143, 2.71428571, 3.        , 3.28571429, 3.57142857,\n",
              "       3.85714286, 4.14285714, 4.42857143, 4.71428571, 5.        ])"
            ]
          },
          "metadata": {},
          "execution_count": 30
        }
      ]
    },
    {
      "cell_type": "markdown",
      "id": "b7a843ff",
      "metadata": {
        "id": "b7a843ff"
      },
      "source": [
        "## 🔄 Reshape, Ravel, Flatten, Transpose"
      ]
    },
    {
      "cell_type": "code",
      "execution_count": null,
      "id": "63ddc6a7",
      "metadata": {
        "id": "63ddc6a7"
      },
      "outputs": [],
      "source": [
        "arr1=np.arange(1,13)"
      ]
    },
    {
      "cell_type": "code",
      "source": [
        "arr1.reshape(2,3,2)"
      ],
      "metadata": {
        "colab": {
          "base_uri": "https://localhost:8080/"
        },
        "id": "4JmLJNFFnHhd",
        "outputId": "e96021e0-fe57-4cc4-8c6b-a657e12931a1"
      },
      "id": "4JmLJNFFnHhd",
      "execution_count": null,
      "outputs": [
        {
          "output_type": "execute_result",
          "data": {
            "text/plain": [
              "array([[[ 1,  2],\n",
              "        [ 3,  4],\n",
              "        [ 5,  6]],\n",
              "\n",
              "       [[ 7,  8],\n",
              "        [ 9, 10],\n",
              "        [11, 12]]])"
            ]
          },
          "metadata": {},
          "execution_count": 32
        }
      ]
    },
    {
      "cell_type": "code",
      "source": [
        "arr2=np.arange(1,13).reshape(2,6)"
      ],
      "metadata": {
        "id": "mWMduI8dnKaI"
      },
      "id": "mWMduI8dnKaI",
      "execution_count": null,
      "outputs": []
    },
    {
      "cell_type": "code",
      "source": [
        "arr2.T"
      ],
      "metadata": {
        "colab": {
          "base_uri": "https://localhost:8080/"
        },
        "id": "b00kCKtAnNDH",
        "outputId": "bf21cc79-2fdc-495e-ee47-0f4d9dcb0a07"
      },
      "id": "b00kCKtAnNDH",
      "execution_count": null,
      "outputs": [
        {
          "output_type": "execute_result",
          "data": {
            "text/plain": [
              "array([[ 1,  7],\n",
              "       [ 2,  8],\n",
              "       [ 3,  9],\n",
              "       [ 4, 10],\n",
              "       [ 5, 11],\n",
              "       [ 6, 12]])"
            ]
          },
          "metadata": {},
          "execution_count": 34
        }
      ]
    },
    {
      "cell_type": "code",
      "execution_count": null,
      "id": "f299220a",
      "metadata": {
        "colab": {
          "base_uri": "https://localhost:8080/"
        },
        "id": "f299220a",
        "outputId": "bde32a5e-685b-4989-fa02-8420c2fd0c99"
      },
      "outputs": [
        {
          "output_type": "execute_result",
          "data": {
            "text/plain": [
              "array([ 1,  2,  3,  4,  5,  6,  7,  8,  9, 10, 11, 12])"
            ]
          },
          "metadata": {},
          "execution_count": 35
        }
      ],
      "source": [
        "arr2.ravel()"
      ]
    },
    {
      "cell_type": "code",
      "source": [
        "arr2.flatten(order='K')"
      ],
      "metadata": {
        "colab": {
          "base_uri": "https://localhost:8080/"
        },
        "id": "i93_geAKnS_c",
        "outputId": "c6346f81-52ee-4409-deac-e33ced130d41"
      },
      "id": "i93_geAKnS_c",
      "execution_count": null,
      "outputs": [
        {
          "output_type": "execute_result",
          "data": {
            "text/plain": [
              "array([ 1,  2,  3,  4,  5,  6,  7,  8,  9, 10, 11, 12])"
            ]
          },
          "metadata": {},
          "execution_count": 36
        }
      ]
    },
    {
      "cell_type": "markdown",
      "id": "82dec97a",
      "metadata": {
        "id": "82dec97a"
      },
      "source": [
        "## ➕ Math Operations & Stats"
      ]
    },
    {
      "cell_type": "code",
      "execution_count": null,
      "id": "e80dfbeb",
      "metadata": {
        "id": "e80dfbeb"
      },
      "outputs": [],
      "source": [
        "arr4 = np.arange(1,10).reshape((3,3))"
      ]
    },
    {
      "cell_type": "code",
      "source": [
        "arr5 = np.arange(11,20).reshape(3,3)"
      ],
      "metadata": {
        "id": "rEkdwqxvnWe6"
      },
      "id": "rEkdwqxvnWe6",
      "execution_count": null,
      "outputs": []
    },
    {
      "cell_type": "code",
      "source": [
        "arr4 + arr5"
      ],
      "metadata": {
        "colab": {
          "base_uri": "https://localhost:8080/"
        },
        "id": "Zm-pvG30nZWO",
        "outputId": "8bde987a-f8d9-48b8-9e92-87aeacb64359"
      },
      "id": "Zm-pvG30nZWO",
      "execution_count": null,
      "outputs": [
        {
          "output_type": "execute_result",
          "data": {
            "text/plain": [
              "array([[12, 14, 16],\n",
              "       [18, 20, 22],\n",
              "       [24, 26, 28]])"
            ]
          },
          "metadata": {},
          "execution_count": 39
        }
      ]
    },
    {
      "cell_type": "code",
      "source": [
        "np.dot(arr4, arr5)"
      ],
      "metadata": {
        "colab": {
          "base_uri": "https://localhost:8080/"
        },
        "id": "1-g08GhqnbpN",
        "outputId": "4f4afe1a-a05f-425d-b048-4d18e2b70723"
      },
      "id": "1-g08GhqnbpN",
      "execution_count": null,
      "outputs": [
        {
          "output_type": "execute_result",
          "data": {
            "text/plain": [
              "array([[ 90,  96, 102],\n",
              "       [216, 231, 246],\n",
              "       [342, 366, 390]])"
            ]
          },
          "metadata": {},
          "execution_count": 40
        }
      ]
    },
    {
      "cell_type": "code",
      "execution_count": null,
      "id": "4ca0287b",
      "metadata": {
        "id": "4ca0287b",
        "colab": {
          "base_uri": "https://localhost:8080/"
        },
        "outputId": "2f5f3248-4a9e-492b-d14f-dff1574f15bb"
      },
      "outputs": [
        {
          "output_type": "execute_result",
          "data": {
            "text/plain": [
              "np.int64(12)"
            ]
          },
          "metadata": {},
          "execution_count": 41
        }
      ],
      "source": [
        "np.max(arr1)"
      ]
    },
    {
      "cell_type": "code",
      "source": [
        "arr1.argmax()"
      ],
      "metadata": {
        "colab": {
          "base_uri": "https://localhost:8080/"
        },
        "id": "tc8KkJljnn3y",
        "outputId": "14a2f87e-d62f-47d6-98fc-2bb327640050"
      },
      "id": "tc8KkJljnn3y",
      "execution_count": null,
      "outputs": [
        {
          "output_type": "execute_result",
          "data": {
            "text/plain": [
              "np.int64(11)"
            ]
          },
          "metadata": {},
          "execution_count": 42
        }
      ]
    },
    {
      "cell_type": "code",
      "source": [
        "arr4.max(axis=0)"
      ],
      "metadata": {
        "colab": {
          "base_uri": "https://localhost:8080/"
        },
        "id": "2fXCeejEnqUj",
        "outputId": "977f962d-60fa-4165-84b7-e4dd201e7ed7"
      },
      "id": "2fXCeejEnqUj",
      "execution_count": null,
      "outputs": [
        {
          "output_type": "execute_result",
          "data": {
            "text/plain": [
              "array([7, 8, 9])"
            ]
          },
          "metadata": {},
          "execution_count": 43
        }
      ]
    },
    {
      "cell_type": "code",
      "source": [
        "arr4.min(axis=1)"
      ],
      "metadata": {
        "colab": {
          "base_uri": "https://localhost:8080/"
        },
        "id": "XXN0wol8nta3",
        "outputId": "5e70dbbd-24d4-4600-e611-a1036b9cb4cc"
      },
      "id": "XXN0wol8nta3",
      "execution_count": null,
      "outputs": [
        {
          "output_type": "execute_result",
          "data": {
            "text/plain": [
              "array([1, 4, 7])"
            ]
          },
          "metadata": {},
          "execution_count": 44
        }
      ]
    },
    {
      "cell_type": "code",
      "source": [
        "np.sum(arr4, axis=0)"
      ],
      "metadata": {
        "colab": {
          "base_uri": "https://localhost:8080/"
        },
        "id": "PGuewz7OnwJC",
        "outputId": "4de8defc-038b-4986-db66-8c5d9905c9eb"
      },
      "id": "PGuewz7OnwJC",
      "execution_count": null,
      "outputs": [
        {
          "output_type": "execute_result",
          "data": {
            "text/plain": [
              "array([12, 15, 18])"
            ]
          },
          "metadata": {},
          "execution_count": 45
        }
      ]
    },
    {
      "cell_type": "code",
      "source": [
        "np.mean(arr4)"
      ],
      "metadata": {
        "colab": {
          "base_uri": "https://localhost:8080/"
        },
        "id": "xJ_RBUgunybx",
        "outputId": "162a6c64-9cc8-41cd-8743-560fcf44132d"
      },
      "id": "xJ_RBUgunybx",
      "execution_count": null,
      "outputs": [
        {
          "output_type": "execute_result",
          "data": {
            "text/plain": [
              "np.float64(5.0)"
            ]
          },
          "metadata": {},
          "execution_count": 46
        }
      ]
    },
    {
      "cell_type": "markdown",
      "id": "22e944d6",
      "metadata": {
        "id": "22e944d6"
      },
      "source": [
        "## 🔍 Square Root, Log, Exp, Std"
      ]
    },
    {
      "cell_type": "code",
      "execution_count": null,
      "id": "fba8d2a4",
      "metadata": {
        "id": "fba8d2a4",
        "colab": {
          "base_uri": "https://localhost:8080/"
        },
        "outputId": "552c3db5-3f96-4105-c94b-82f8a273c137"
      },
      "outputs": [
        {
          "output_type": "execute_result",
          "data": {
            "text/plain": [
              "array([1.        , 1.41421356, 1.73205081, 2.        , 2.23606798,\n",
              "       2.44948974, 2.64575131, 2.82842712, 3.        , 3.16227766,\n",
              "       3.31662479, 3.46410162])"
            ]
          },
          "metadata": {},
          "execution_count": 47
        }
      ],
      "source": [
        "np.sqrt(arr1)"
      ]
    },
    {
      "cell_type": "code",
      "source": [
        "np.std(arr4)"
      ],
      "metadata": {
        "colab": {
          "base_uri": "https://localhost:8080/"
        },
        "id": "sA7Aurg1n3O2",
        "outputId": "96a79078-ec8b-4f8b-a4cc-11488646bf2c"
      },
      "id": "sA7Aurg1n3O2",
      "execution_count": null,
      "outputs": [
        {
          "output_type": "execute_result",
          "data": {
            "text/plain": [
              "np.float64(2.581988897471611)"
            ]
          },
          "metadata": {},
          "execution_count": 48
        }
      ]
    },
    {
      "cell_type": "code",
      "source": [
        "np.exp(arr4)"
      ],
      "metadata": {
        "colab": {
          "base_uri": "https://localhost:8080/"
        },
        "id": "bAgVVxH5n53J",
        "outputId": "4d3515a2-2523-41b6-ee99-b031a4d60c30"
      },
      "id": "bAgVVxH5n53J",
      "execution_count": null,
      "outputs": [
        {
          "output_type": "execute_result",
          "data": {
            "text/plain": [
              "array([[2.71828183e+00, 7.38905610e+00, 2.00855369e+01],\n",
              "       [5.45981500e+01, 1.48413159e+02, 4.03428793e+02],\n",
              "       [1.09663316e+03, 2.98095799e+03, 8.10308393e+03]])"
            ]
          },
          "metadata": {},
          "execution_count": 49
        }
      ]
    },
    {
      "cell_type": "code",
      "source": [
        "np.log(arr4)"
      ],
      "metadata": {
        "colab": {
          "base_uri": "https://localhost:8080/"
        },
        "id": "Umcxi6fAn-lc",
        "outputId": "91bde8f6-5363-4741-b3ce-475ad0c0dd53"
      },
      "id": "Umcxi6fAn-lc",
      "execution_count": null,
      "outputs": [
        {
          "output_type": "execute_result",
          "data": {
            "text/plain": [
              "array([[0.        , 0.69314718, 1.09861229],\n",
              "       [1.38629436, 1.60943791, 1.79175947],\n",
              "       [1.94591015, 2.07944154, 2.19722458]])"
            ]
          },
          "metadata": {},
          "execution_count": 50
        }
      ]
    },
    {
      "cell_type": "code",
      "source": [
        "np.log10(arr4)"
      ],
      "metadata": {
        "colab": {
          "base_uri": "https://localhost:8080/"
        },
        "id": "iGu8yC4ToAtT",
        "outputId": "2f14d114-036e-4c73-be67-de2f46b99840"
      },
      "id": "iGu8yC4ToAtT",
      "execution_count": null,
      "outputs": [
        {
          "output_type": "execute_result",
          "data": {
            "text/plain": [
              "array([[0.        , 0.30103   , 0.47712125],\n",
              "       [0.60205999, 0.69897   , 0.77815125],\n",
              "       [0.84509804, 0.90308999, 0.95424251]])"
            ]
          },
          "metadata": {},
          "execution_count": 51
        }
      ]
    },
    {
      "cell_type": "markdown",
      "id": "c1154a9d",
      "metadata": {
        "id": "c1154a9d"
      },
      "source": [
        "## 🎯 Slicing and Indexing"
      ]
    },
    {
      "cell_type": "code",
      "execution_count": null,
      "id": "7e986788",
      "metadata": {
        "id": "7e986788"
      },
      "outputs": [],
      "source": [
        "mx=np.arange(1,101).reshape((10,10))"
      ]
    },
    {
      "cell_type": "code",
      "source": [
        "mx[0]"
      ],
      "metadata": {
        "colab": {
          "base_uri": "https://localhost:8080/"
        },
        "id": "bUsdN2nOoGF4",
        "outputId": "d549409d-d5cd-4375-b35d-8dd1916348e3"
      },
      "id": "bUsdN2nOoGF4",
      "execution_count": null,
      "outputs": [
        {
          "output_type": "execute_result",
          "data": {
            "text/plain": [
              "array([ 1,  2,  3,  4,  5,  6,  7,  8,  9, 10])"
            ]
          },
          "metadata": {},
          "execution_count": 53
        }
      ]
    },
    {
      "cell_type": "code",
      "source": [
        "mx[:,0:1]"
      ],
      "metadata": {
        "colab": {
          "base_uri": "https://localhost:8080/"
        },
        "id": "TbNRc9nqoIjr",
        "outputId": "011d3477-8013-4dbf-bdd0-b312a0eaab14"
      },
      "id": "TbNRc9nqoIjr",
      "execution_count": null,
      "outputs": [
        {
          "output_type": "execute_result",
          "data": {
            "text/plain": [
              "array([[ 1],\n",
              "       [11],\n",
              "       [21],\n",
              "       [31],\n",
              "       [41],\n",
              "       [51],\n",
              "       [61],\n",
              "       [71],\n",
              "       [81],\n",
              "       [91]])"
            ]
          },
          "metadata": {},
          "execution_count": 54
        }
      ]
    },
    {
      "cell_type": "code",
      "source": [
        "mx[1:4,1:4]"
      ],
      "metadata": {
        "colab": {
          "base_uri": "https://localhost:8080/"
        },
        "id": "vvqTJHFeoLlI",
        "outputId": "056f69b4-3468-4218-f8db-984006a61e6c"
      },
      "id": "vvqTJHFeoLlI",
      "execution_count": null,
      "outputs": [
        {
          "output_type": "execute_result",
          "data": {
            "text/plain": [
              "array([[12, 13, 14],\n",
              "       [22, 23, 24],\n",
              "       [32, 33, 34]])"
            ]
          },
          "metadata": {},
          "execution_count": 55
        }
      ]
    },
    {
      "cell_type": "markdown",
      "id": "13f14174",
      "metadata": {
        "id": "13f14174"
      },
      "source": [
        "## 🔗 Concatenation and Splitting"
      ]
    },
    {
      "cell_type": "code",
      "execution_count": null,
      "id": "5080699a",
      "metadata": {
        "id": "5080699a"
      },
      "outputs": [],
      "source": [
        "ar1=np.arange(1,17).reshape((4,4))"
      ]
    },
    {
      "cell_type": "code",
      "source": [
        "ar2=np.arange(17,33).reshape((4,4))"
      ],
      "metadata": {
        "id": "WhAP2T1foTIU"
      },
      "id": "WhAP2T1foTIU",
      "execution_count": null,
      "outputs": []
    },
    {
      "cell_type": "code",
      "source": [
        "np.hstack((ar1, ar2))"
      ],
      "metadata": {
        "colab": {
          "base_uri": "https://localhost:8080/"
        },
        "id": "j_Wf0f1ooWWn",
        "outputId": "716c3bfa-f8f3-46a6-a59a-62011ed45e8c"
      },
      "id": "j_Wf0f1ooWWn",
      "execution_count": null,
      "outputs": [
        {
          "output_type": "execute_result",
          "data": {
            "text/plain": [
              "array([[ 1,  2,  3,  4, 17, 18, 19, 20],\n",
              "       [ 5,  6,  7,  8, 21, 22, 23, 24],\n",
              "       [ 9, 10, 11, 12, 25, 26, 27, 28],\n",
              "       [13, 14, 15, 16, 29, 30, 31, 32]])"
            ]
          },
          "metadata": {},
          "execution_count": 58
        }
      ]
    },
    {
      "cell_type": "code",
      "source": [
        "np.split(ar1, 2, axis=1)"
      ],
      "metadata": {
        "colab": {
          "base_uri": "https://localhost:8080/"
        },
        "id": "u6_FdLwzoZRS",
        "outputId": "84c76e9a-9953-49a9-f1f2-8678b6b16e06"
      },
      "id": "u6_FdLwzoZRS",
      "execution_count": null,
      "outputs": [
        {
          "output_type": "execute_result",
          "data": {
            "text/plain": [
              "[array([[ 1,  2],\n",
              "        [ 5,  6],\n",
              "        [ 9, 10],\n",
              "        [13, 14]]),\n",
              " array([[ 3,  4],\n",
              "        [ 7,  8],\n",
              "        [11, 12],\n",
              "        [15, 16]])]"
            ]
          },
          "metadata": {},
          "execution_count": 59
        }
      ]
    },
    {
      "cell_type": "markdown",
      "id": "69f82bdb",
      "metadata": {
        "id": "69f82bdb"
      },
      "source": [
        "## 📐 Trigonometric Functions with Plots"
      ]
    },
    {
      "cell_type": "code",
      "execution_count": 72,
      "id": "990a43c6",
      "metadata": {
        "id": "990a43c6",
        "colab": {
          "base_uri": "https://localhost:8080/",
          "height": 250
        },
        "outputId": "37d98f82-5d6f-4eca-963b-1e7a381343ff"
      },
      "outputs": [
        {
          "output_type": "display_data",
          "data": {
            "text/plain": [
              "<Figure size 640x480 with 1 Axes>"
            ],
            "image/png": "[encoded data removed]"
          },
          "metadata": {}
        }
      ],
      "source": [
        "x = np.arange(0, 3*np.pi, 0.1)\n",
        "y = np.sin(x)\n",
        "plt.plot(x, y)\n",
        "plt.title('Sine Wave')\n",
        "plt.show()"
      ]
    },
    {
      "cell_type": "markdown",
      "id": "a2cdebf9",
      "metadata": {
        "id": "a2cdebf9"
      },
      "source": [
        "## 🎲 Random Sampling"
      ]
    },
    {
      "cell_type": "code",
      "execution_count": null,
      "id": "9a4f928b",
      "metadata": {
        "id": "9a4f928b"
      },
      "outputs": [],
      "source": [
        "np.random.seed(10)"
      ]
    },
    {
      "cell_type": "code",
      "source": [
        "np.random.randint(6,11,(2,4,4))"
      ],
      "metadata": {
        "colab": {
          "base_uri": "https://localhost:8080/"
        },
        "id": "wXrK_lUBokP-",
        "outputId": "933b175e-3568-4c75-e22a-041ee26bb7fc"
      },
      "id": "wXrK_lUBokP-",
      "execution_count": null,
      "outputs": [
        {
          "output_type": "execute_result",
          "data": {
            "text/plain": [
              "array([[[ 7, 10,  6,  7],\n",
              "        [ 9, 10,  7,  6],\n",
              "        [ 7,  8,  6,  7],\n",
              "        [ 6,  8,  6, 10]],\n",
              "\n",
              "       [[ 9,  6, 10,  9],\n",
              "        [ 6,  9,  8,  7],\n",
              "        [ 6, 10,  7,  9],\n",
              "        [ 9,  7, 10,  7]]])"
            ]
          },
          "metadata": {},
          "execution_count": 62
        }
      ]
    },
    {
      "cell_type": "code",
      "source": [
        "np.random.rand(3)"
      ],
      "metadata": {
        "colab": {
          "base_uri": "https://localhost:8080/"
        },
        "id": "A6BVk_nTonXL",
        "outputId": "db385152-ec72-4d5d-b781-97306e78a6c6"
      },
      "id": "A6BVk_nTonXL",
      "execution_count": null,
      "outputs": [
        {
          "output_type": "execute_result",
          "data": {
            "text/plain": [
              "array([0.43401399, 0.61776698, 0.51313824])"
            ]
          },
          "metadata": {},
          "execution_count": 63
        }
      ]
    },
    {
      "cell_type": "code",
      "source": [
        "np.random.randn(3,3)"
      ],
      "metadata": {
        "colab": {
          "base_uri": "https://localhost:8080/"
        },
        "id": "9GULeb-Top-R",
        "outputId": "ab7f1222-31bc-4728-d3cf-540937cf935d"
      },
      "id": "9GULeb-Top-R",
      "execution_count": null,
      "outputs": [
        {
          "output_type": "execute_result",
          "data": {
            "text/plain": [
              "array([[ 1.12369125,  1.67262221,  0.09914922],\n",
              "       [ 1.39799638, -0.27124799,  0.61320418],\n",
              "       [-0.26731719, -0.54930901,  0.1327083 ]])"
            ]
          },
          "metadata": {},
          "execution_count": 64
        }
      ]
    },
    {
      "cell_type": "markdown",
      "id": "4d61fde5",
      "metadata": {
        "id": "4d61fde5"
      },
      "source": [
        "## 🔤 String Operations"
      ]
    },
    {
      "cell_type": "code",
      "execution_count": null,
      "id": "b5502c72",
      "metadata": {
        "id": "b5502c72"
      },
      "outputs": [],
      "source": [
        "str1 = \"Ziddi engineer.\"\n",
        "str2 = \" I am data scientiest \""
      ]
    },
    {
      "cell_type": "code",
      "source": [
        "np.char.add(str1, str2)"
      ],
      "metadata": {
        "colab": {
          "base_uri": "https://localhost:8080/",
          "height": 52
        },
        "id": "QZC_8SjHoxEU",
        "outputId": "cacb4948-d2dd-40bc-bd93-acc776bc2662"
      },
      "id": "QZC_8SjHoxEU",
      "execution_count": 73,
      "outputs": [
        {
          "output_type": "execute_result",
          "data": {
            "text/plain": [
              "np.str_('Ziddi engineer. I am data scientiest ')"
            ],
            "application/vnd.google.colaboratory.intrinsic+json": {
              "type": "string"
            }
          },
          "metadata": {},
          "execution_count": 73
        }
      ]
    },
    {
      "cell_type": "code",
      "source": [
        "np.char.upper(str2)"
      ],
      "metadata": {
        "colab": {
          "base_uri": "https://localhost:8080/"
        },
        "id": "x6MoSDRBo0Hw",
        "outputId": "78dc73c9-4d4f-4b50-a4a3-9695d62de984"
      },
      "id": "x6MoSDRBo0Hw",
      "execution_count": null,
      "outputs": [
        {
          "output_type": "execute_result",
          "data": {
            "text/plain": [
              "array(' I AM DATA SCIENTIEST ', dtype='<U22')"
            ]
          },
          "metadata": {},
          "execution_count": 67
        }
      ]
    },
    {
      "cell_type": "code",
      "source": [
        "np.char.center(str1,60,fillchar=\"*\")"
      ],
      "metadata": {
        "colab": {
          "base_uri": "https://localhost:8080/"
        },
        "id": "0FkhbR-Eo2j9",
        "outputId": "a617ed33-2ab4-4cb4-ead8-e7f12813aefb"
      },
      "id": "0FkhbR-Eo2j9",
      "execution_count": null,
      "outputs": [
        {
          "output_type": "execute_result",
          "data": {
            "text/plain": [
              "array('**********************Ziddi engineer.***********************',\n",
              "      dtype='<U60')"
            ]
          },
          "metadata": {},
          "execution_count": 68
        }
      ]
    }
  ],
  "metadata": {
    "colab": {
      "provenance": [],
      "include_colab_link": true
    },
    "kernelspec": {
      "display_name": "Python 3",
      "name": "python3"
    },
    "language_info": {
      "name": "python"
    }
  },
  "nbformat": 4,
  "nbformat_minor": 5
}